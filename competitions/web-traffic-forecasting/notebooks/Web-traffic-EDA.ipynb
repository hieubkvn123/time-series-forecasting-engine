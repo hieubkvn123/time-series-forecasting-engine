{
 "cells": [
  {
   "cell_type": "markdown",
   "id": "8f56752d",
   "metadata": {},
   "source": [
    "# Change working directory"
   ]
  },
  {
   "cell_type": "code",
   "execution_count": 1,
   "id": "058b839f",
   "metadata": {},
   "outputs": [
    {
     "name": "stdout",
     "output_type": "stream",
     "text": [
      "/home/hieu/Desktop/Hieu/Python/git/time-series-forecasting-engine\n"
     ]
    }
   ],
   "source": [
    "%cd ../../.."
   ]
  },
  {
   "cell_type": "markdown",
   "id": "a54b84eb",
   "metadata": {},
   "source": [
    "# Import libraries"
   ]
  },
  {
   "cell_type": "code",
   "execution_count": 2,
   "id": "f0398d17",
   "metadata": {},
   "outputs": [],
   "source": [
    "import os\n",
    "import numpy as np\n",
    "import pandas as pd\n",
    "import matplotlib.pyplot as plt\n",
    "\n",
    "### Some constants ###\n",
    "data_dir = 'competitions/web-traffic-forecasting/data'\n",
    "train_files = ['train_1.csv', 'train_2.csv']\n",
    "key_files = ['key_1.csv', 'key_2.csv']"
   ]
  },
  {
   "cell_type": "markdown",
   "id": "1a58e8da",
   "metadata": {},
   "source": [
    "# Load data\n",
    " - Train files : For each train file (train_idx.csv), there will be one column specifying the page name and the remaining columns specifying the time-stamp when web traffic is recorded.\n",
    " - Key files : Maps the page name with an ID. The submission file will have the IDx of the pages along with the forecasted values."
   ]
  },
  {
   "cell_type": "code",
   "execution_count": null,
   "id": "c170d663",
   "metadata": {},
   "outputs": [],
   "source": [
    "df1 = pd.read_csv(os.path.join(data_dir, train_files[0]))\n",
    "df2 = pd.read_csv(os.path.join(data_dir, train_files[1]))\n",
    "keys1 = pd.read_csv(os.path.join(data_dir, key_files[0]))\n",
    "keys2 = pd.read_csv(os.path.join(data_dir, key_files[1]))"
   ]
  },
  {
   "cell_type": "code",
   "execution_count": null,
   "id": "afcace9e",
   "metadata": {},
   "outputs": [],
   "source": [
    "# Set Page as index column\n",
    "df1 = df1.set_index('Page')\n",
    "df2 = df2.set_index('Page')"
   ]
  }
 ],
 "metadata": {
  "kernelspec": {
   "display_name": "Python 3 (ipykernel)",
   "language": "python",
   "name": "python3"
  },
  "language_info": {
   "codemirror_mode": {
    "name": "ipython",
    "version": 3
   },
   "file_extension": ".py",
   "mimetype": "text/x-python",
   "name": "python",
   "nbconvert_exporter": "python",
   "pygments_lexer": "ipython3",
   "version": "3.10.4"
  }
 },
 "nbformat": 4,
 "nbformat_minor": 5
}
